{
  "nbformat": 4,
  "nbformat_minor": 0,
  "metadata": {
    "colab": {
      "provenance": [],
      "authorship_tag": "ABX9TyO9DJDtXU4lOIyuE0C6dcxj",
      "include_colab_link": true
    },
    "kernelspec": {
      "name": "python3",
      "display_name": "Python 3"
    },
    "language_info": {
      "name": "python"
    }
  },
  "cells": [
    {
      "cell_type": "markdown",
      "metadata": {
        "id": "view-in-github",
        "colab_type": "text"
      },
      "source": [
        "<a href=\"https://colab.research.google.com/github/Johan1845/Estadistica-I-y-II/blob/main/Estadisticaipython.ipynb\" target=\"_parent\"><img src=\"https://colab.research.google.com/assets/colab-badge.svg\" alt=\"Open In Colab\"/></a>"
      ]
    },
    {
      "cell_type": "code",
      "source": [
        "import pandas as pd\n",
        "import io\n",
        "import matplotlib.pyplot as plt\n",
        "import seaborn as np\n",
        "import numpy as np\n",
        "import plotly.express as px\n",
        "from scipy.stats import norm\n",
        "from scipy.stats import shapiro\n",
        "from scipy.stats import skew, kurtosis\n",
        "from sklearn.linear_model import LinearRegression\n",
        "from scipy.stats import spearmanr, kendalltau"
      ],
      "metadata": {
        "id": "bie_hM6-V1XX"
      },
      "execution_count": null,
      "outputs": []
    },
    {
      "cell_type": "code",
      "execution_count": null,
      "metadata": {
        "id": "0V0KPHoMTYtc"
      },
      "outputs": [],
      "source": [
        "from google.colab import files # Para cargar archivos en google colab\n",
        "uploaded = files.upload()\n",
        "io_csv = io.BytesIO(uploaded['nac2020.csv'])\n",
        "tabla = pd.read_csv(io_csv, sep = \",\", index_col=0, encoding='latin-1')\n",
        "tabla.head(3)\n"
      ]
    },
    {
      "cell_type": "markdown",
      "source": [
        "Diagrama de dispersión y recta de regresión para datos bivariados\n",
        "\n",
        ".Vamos a revisar si una variable esta correlacionada o depende de otra\n",
        "\n",
        ".Una variable depende de la otra cuando la ejecucción de esta se ve afectada por la variable independiente. Ejemplo: El precio de una vivienda depende del número de habitaciones, entre más habitaciones mayor precio.\n",
        "\n",
        ".Una variable esta correlacionada con otra cuando guardan cierta relacion pero no es posible hablar de dependecia. Ejemplo: Consumo de arroz y de carne, ya que al comer mas arroz se come mas carne pero no hay una dependencia entre estas dos variables"
      ],
      "metadata": {
        "id": "V6VJhRVJTmJ7"
      }
    },
    {
      "cell_type": "code",
      "source": [
        "plt.figure(figsize=(5,4))\n",
        "plt.scatter(df1[\"N_HIJOSV\"], df1[\"EDAN_PADRE\"], color = \"drakgreen\", marker = \"o\")\n",
        "plt.xlabel(\"Número de hijos\")\n",
        "plt.ylabel(\"Edad del padre (años)\")\n",
        "plt.show()"
      ],
      "metadata": {
        "id": "FnjvJaTwTo54"
      },
      "execution_count": null,
      "outputs": []
    },
    {
      "cell_type": "code",
      "source": [
        "from sklearn.linear_model import LinearRegression\n",
        "modelo = LinearRegression()\n",
        "modelo.fit(np.array(df1[\"N_HIJOSV\"]).reshape(-1,1), np.array(df1[\"EDAN_PADRE\"]).reshape(-1,1))\n",
        "predi_lineal = modelo.predict(np.array(df1[\"N_HIJOSV\"]).reshape(-1,1))\n"
      ],
      "metadata": {
        "id": "mBxSaGRzVKEx"
      },
      "execution_count": null,
      "outputs": []
    },
    {
      "cell_type": "code",
      "source": [
        "plt.figure(figsize=(5,4))\n",
        "plt.scatter(df1[\"N_HIJOSV\"], df1[\"EDAN_PADRE\"], color = \"purple\", marker = \"o\")\n",
        "plt.plot(df1[\"N_HIJOSV\"], predi_lineal, linestyle = \"-\", color = \"red\")\n",
        "plt.xlabel(\"Número de hijos\")\n",
        "plt.ylabel(\"Edad del padre (años)\")\n",
        "plt.show()"
      ],
      "metadata": {
        "id": "Pi5_lIPGlGRr"
      },
      "execution_count": null,
      "outputs": []
    },
    {
      "cell_type": "markdown",
      "source": [
        "De acuerdo con la recta de regresión, se determina que entre más hijos tiene una persona más años tiene dicha persona, hay una correlación positiva, es decir, entre mas hijos tiene un hombre en Colombia más años tiene esta persona"
      ],
      "metadata": {
        "id": "v9rqVrJDBj1V"
      }
    },
    {
      "cell_type": "code",
      "source": [
        "coef_pearson = np.corrcoef(df1[\"N_HIJOSV\"], df1[\"EDAN_PADRE\"])[0,1]\n",
        "coef_spearman, _ = spearmanr(df1[\"N_HIJOSV\"], df1[\"EDAN_PADRE\"])\n",
        "coef_kendall, _ = kendalltau(df1[\"N_HIJOSV\"], df1[\"EDAN_PADRE\"])\n",
        "print(f\"Los coeficientes de correlación de Pearson, de Spearman y de Kendall son respectivamente {coef_pearson}, {coef_spearman} y {coef_kendall}.\")\n"
      ],
      "metadata": {
        "id": "xKPl3_XGEVtI"
      },
      "execution_count": null,
      "outputs": []
    },
    {
      "cell_type": "markdown",
      "source": [
        "Para la interpretcaión de los coeficientes de correlación nos ayudaremos de la referencia:\n",
        "\n",
        " Landis, J. R., & Koch, G. G. (1977). The measurement of observer agreement for categorical data. biometrics, 159-174. [Link](https://pdfs.semanticscholar.org/7e73/43a5608fff1c68c5259db0c77b9193f1546d.pdf)\n",
        "\n",
        "\n",
        "* X y Y son independientes o no estan correlacionadas:  $\\rho (X,Y) \\approx 0, \\eta (X,Y) \\approx 0, \\kappa (X,Y) \\approx 0$\n",
        "* Y depende insignificantemente de X o X y Y están insignificantemente correlacionadas si $0 < \\vert \\rho (X,Y) \\vert < 0.2$, $0 < \\vert \\eta (X,Y) \\vert < 0.2$, $0 < \\vert \\kappa (X,Y) \\vert < 0.2$\n",
        "* Y depende discretamente de X o X y Y están discretamente correlacionadas si $0.2 < \\vert \\rho (X,Y) \\vert < 0.4$, $0.2 < \\vert \\eta (X,Y) \\vert < 0.4$, $0.2 < \\vert \\kappa (X,Y) \\vert < 0.4$\n",
        "* Y depende moderadamente de X o X y Y están moderadamente correlacionadas si $0.4 < \\vert \\rho (X,Y) \\vert < 0.6$, $0.4 < \\vert \\eta (X,Y) \\vert < 0.6$, $0.4 < \\vert \\kappa (X,Y) \\vert < 0.6$\n",
        "* Y depende sustancialmente de X o X y Y están sustancialmente correlacionadas si $0.6 < \\vert \\rho (X,Y) \\vert < 0.8$, $0.6 < \\vert \\eta (X,Y) \\vert < 0.8$, $0.6 < \\vert \\kappa (X,Y) \\vert < 0.8$\n",
        "* Y depende fuertemente de X o X y Y están fuertemente correlacionadas si $0.8 < \\vert \\rho (X,Y) \\vert < 1$, $0.8 < \\vert \\eta (X,Y) \\vert < 1$, $0.8 < \\vert \\kappa (X,Y) \\vert < 1$\n"
      ],
      "metadata": {
        "id": "brOk-fegLFxA"
      }
    },
    {
      "cell_type": "markdown",
      "source": [
        "De acuerdo con los coeficientes de correlación de Pearson, de Kendall y de Spearman se determina que el número de hijos de un padre y la de un padre de un recién nacido en Colombia, están discretamente correlacionadas"
      ],
      "metadata": {
        "id": "W523P_OJUXr5"
      }
    }
  ]
}